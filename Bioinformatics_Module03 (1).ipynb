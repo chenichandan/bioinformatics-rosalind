{
 "cells": [
  {
   "cell_type": "markdown",
   "id": "5c52d8a8",
   "metadata": {},
   "source": [
    "# Bioinformatics Module 03\n",
    "Assignment notebook covering P6–P23\n",
    "\n",
    "**How to use this notebook**\n",
    "1) Run code cells top-to-bottom.\n",
    "2) For file-based tasks, upload the required sample files to Colab using the left file pane (e.g., `practice.txt`, `practice_5.txt`, `practice_9.txt`, or the Rosalind inputs you download).\n",
    "3) When finished: **File → Save a copy in GitHub** and choose the path `notebooks/Bioinformatics_Module03.ipynb` in your repo.\n"
   ]
  },
  {
   "cell_type": "markdown",
   "id": "285069a1",
   "metadata": {},
   "source": [
    "## P6 — `input()` and simple I/O"
   ]
  },
  {
   "cell_type": "code",
   "execution_count": null,
   "id": "79408a4a",
   "metadata": {},
   "outputs": [],
   "source": [
    "# P6.1 — Greeting with input()\n",
    "name = input(\"Enter your name: \").strip()\n",
    "print(f\"Hello {name}\")"
   ]
  },
  {
   "cell_type": "code",
   "execution_count": null,
   "id": "a538abc6",
   "metadata": {},
   "outputs": [],
   "source": [
    "# P6.2 — Rosalind #1 (square of hypotenuse: a^2 + b^2)\n",
    "# Enter two numbers separated by a space (e.g., '3 4')\n",
    "a, b = map(float, input(\"Enter a and b separated by a space: \").split())\n",
    "c_sq = a**2 + b**2\n",
    "print(c_sq)"
   ]
  },
  {
   "cell_type": "markdown",
   "id": "c58f1841",
   "metadata": {},
   "source": [
    "## P7 — Lists: create, replace, append, insert"
   ]
  },
  {
   "cell_type": "code",
   "execution_count": null,
   "id": "28ab1190",
   "metadata": {},
   "outputs": [],
   "source": [
    "# Start list\n",
    "my_list = [\"Hello\", \"World\", \"Charles Darwin\"]\n",
    "print(\"my_list[1] ->\", my_list[1])  # World\n",
    "\n",
    "# Replace index 2 (third item)\n",
    "my_list[2] = \"Alfred R. Wallace\"\n",
    "\n",
    "# Append Darwin back to the end\n",
    "my_list.append(\"Charles Darwin\")\n",
    "\n",
    "# Insert at index 1\n",
    "my_list.insert(1, \"Inserted item\")\n",
    "print(my_list)"
   ]
  },
  {
   "cell_type": "markdown",
   "id": "11c5b719",
   "metadata": {},
   "source": [
    "## P8 — Slicing lists and strings"
   ]
  },
  {
   "cell_type": "code",
   "execution_count": null,
   "id": "e8e8067f",
   "metadata": {},
   "outputs": [],
   "source": [
    "# Using the list from P7\n",
    "# Indices now: 0:'Hello', 1:'Inserted item', 2:'World', 3:'Alfred R. Wallace', 4:'Charles Darwin'\n",
    "print(my_list[2:4])  # ['World', 'Alfred R. Wallace']"
   ]
  },
  {
   "cell_type": "code",
   "execution_count": null,
   "id": "72b2ded1",
   "metadata": {},
   "outputs": [],
   "source": [
    "# String slicing\n",
    "my_string = \"HelloWorldCharlesDarwinAlfred R. Wallace\"\n",
    "# Hello World\n",
    "print(my_string[0:5], my_string[5:10])\n",
    "# 'Wallace World' (Wallace starts at 33 in the given example string)\n",
    "print(my_string[33:40], my_string[5:10])"
   ]
  },
  {
   "cell_type": "code",
   "execution_count": null,
   "id": "94ea7db1",
   "metadata": {},
   "outputs": [],
   "source": [
    "# P8.3 — Rosalind #2 Strings and Lists\n",
    "# Input line 1: the string s\n",
    "# Input line 2: four integers a b c d\n",
    "s = input(\"Enter string s: \").strip()\n",
    "a, b, c, d = map(int, input(\"Enter a b c d: \").split())\n",
    "print(s[a:b+1], s[c:d+1])"
   ]
  },
  {
   "cell_type": "markdown",
   "id": "bb4b8eb7",
   "metadata": {},
   "source": [
    "## P9 — `if` / `else`"
   ]
  },
  {
   "cell_type": "code",
   "execution_count": null,
   "id": "2e7108f1",
   "metadata": {},
   "outputs": [],
   "source": [
    "# If numbers are the same, add; otherwise subtract\n",
    "x = int(input(\"x: \"))\n",
    "y = int(input(\"y: \"))\n",
    "if x == y:\n",
    "    print(x + y)\n",
    "else:\n",
    "    print(x - y)"
   ]
  },
  {
   "cell_type": "markdown",
   "id": "68c391a6",
   "metadata": {},
   "source": [
    "## P10 — `while` loop"
   ]
  },
  {
   "cell_type": "code",
   "execution_count": null,
   "id": "958f45a9",
   "metadata": {},
   "outputs": [],
   "source": [
    "# Run exactly 3 times\n",
    "a = 1\n",
    "while a <= 3:\n",
    "    print(\"Counting!\")\n",
    "    a += 1"
   ]
  },
  {
   "cell_type": "markdown",
   "id": "57e80080",
   "metadata": {},
   "source": [
    "## P11 — `for` loop over a list"
   ]
  },
  {
   "cell_type": "code",
   "execution_count": null,
   "id": "46d6ab27",
   "metadata": {},
   "outputs": [],
   "source": [
    "names = [\"Ada\", \"Grace\", \"Alan\"]\n",
    "for name in names:\n",
    "    print(\"Hello\", name)"
   ]
  },
  {
   "cell_type": "markdown",
   "id": "e6ffd9d9",
   "metadata": {},
   "source": [
    "## P12 — `for` loop over `range()`"
   ]
  },
  {
   "cell_type": "code",
   "execution_count": null,
   "id": "19e8743e",
   "metadata": {},
   "outputs": [],
   "source": [
    "# P12.1 — 10 iterations\n",
    "iterations = 10\n",
    "for number in range(iterations):\n",
    "    print(number)"
   ]
  },
  {
   "cell_type": "code",
   "execution_count": null,
   "id": "281e48e6",
   "metadata": {},
   "outputs": [],
   "source": [
    "# P12.2 — Every 3rd number from 9 through 27 (including 27)\n",
    "for n in range(9, 28, 3):\n",
    "    print(n)"
   ]
  },
  {
   "cell_type": "code",
   "execution_count": null,
   "id": "7e55b6f9",
   "metadata": {},
   "outputs": [],
   "source": [
    "# P12.3 — Rosalind #3: sum of odd integers from a..b\n",
    "a, b = map(int, input(\"Enter a b: \").split())\n",
    "total = sum(i for i in range(a, b+1) if i % 2 == 1)\n",
    "print(total)"
   ]
  },
  {
   "cell_type": "markdown",
   "id": "3d1564e6",
   "metadata": {},
   "source": [
    "## P13 — File I/O: `open`, `read`, `readline`, `readlines`\n",
    "Upload `practice.txt` to your Colab working directory before running."
   ]
  },
  {
   "cell_type": "code",
   "execution_count": null,
   "id": "77cd7e2d",
   "metadata": {},
   "outputs": [],
   "source": [
    "# P13.1 — print entire file\n",
    "with open(\"practice.txt\", \"r\") as data:\n",
    "    print(data.read())"
   ]
  },
  {
   "cell_type": "code",
   "execution_count": null,
   "id": "7d5f657a",
   "metadata": {},
   "outputs": [],
   "source": [
    "# P13.2 — compare read(), readline(), readlines()\n",
    "with open(\"practice.txt\", \"r\") as f:\n",
    "    print(\"read():\")\n",
    "    print(f.read())\n",
    "\n",
    "with open(\"practice.txt\", \"r\") as f:\n",
    "    print(\"\\nreadline():\")\n",
    "    print(f.readline())\n",
    "\n",
    "with open(\"practice.txt\", \"r\") as f:\n",
    "    print(\"\\nreadlines():\")\n",
    "    print(f.readlines())"
   ]
  },
  {
   "cell_type": "markdown",
   "id": "10ebdc23",
   "metadata": {},
   "source": [
    "## P14 — Store as list and `\"\".join()`"
   ]
  },
  {
   "cell_type": "code",
   "execution_count": null,
   "id": "72f6f93a",
   "metadata": {},
   "outputs": [],
   "source": [
    "with open(\"practice.txt\", \"r\") as data:\n",
    "    list_of_lines = data.readlines()\n",
    "\n",
    "# Print looking like original input\n",
    "print(\"\".join(list_of_lines))"
   ]
  },
  {
   "cell_type": "markdown",
   "id": "1f906b32",
   "metadata": {},
   "source": [
    "## P15 — For loop + file objects"
   ]
  },
  {
   "cell_type": "code",
   "execution_count": null,
   "id": "0575f0b1",
   "metadata": {},
   "outputs": [],
   "source": [
    "# P15.1 — print each line without extra newlines\n",
    "with open(\"practice.txt\", \"r\") as data:\n",
    "    for line in data:\n",
    "        print(line.rstrip())"
   ]
  },
  {
   "cell_type": "code",
   "execution_count": null,
   "id": "2865f365",
   "metadata": {},
   "outputs": [],
   "source": [
    "# P15.2 — Rosalind #4 (Working with Files): print even-numbered lines (2,4,6,...)\n",
    "# Upload your Rosalind input file and set the filename below.\n",
    "input_filename = \"rosalind_4.txt\"  # change to your uploaded filename\n",
    "with open(input_filename, \"r\") as f:\n",
    "    for i, line in enumerate(f, start=1):\n",
    "        if i % 2 == 0:\n",
    "            print(line.rstrip())"
   ]
  },
  {
   "cell_type": "markdown",
   "id": "efdf79c5",
   "metadata": {},
   "source": [
    "## P16 — `for word in line.split()`"
   ]
  },
  {
   "cell_type": "code",
   "execution_count": null,
   "id": "f8f36315",
   "metadata": {},
   "outputs": [],
   "source": [
    "# Upload practice_5.txt, then print each word on its own line\n",
    "with open(\"practice_5.txt\", \"r\") as data:\n",
    "    for line in data:\n",
    "        for word in line.split():  # splits on whitespace by default\n",
    "            print(word)"
   ]
  },
  {
   "cell_type": "markdown",
   "id": "e333cd87",
   "metadata": {},
   "source": [
    "## P17 — Dictionaries `{}`"
   ]
  },
  {
   "cell_type": "code",
   "execution_count": null,
   "id": "0bd4631c",
   "metadata": {},
   "outputs": [],
   "source": [
    "# Create and print your first dictionary\n",
    "sequences = {\n",
    "    \"H.sapiens\": \"ATGCGT\",\n",
    "    \"P.troglodytes\": \"ATGAGT\",\n",
    "    \"G.gorilla\": \"ATGCGC\",\n",
    "}\n",
    "print(sequences[\"H.sapiens\"])  # print a specific value by key"
   ]
  },
  {
   "cell_type": "markdown",
   "id": "c1214628",
   "metadata": {},
   "source": [
    "## P18 — Manipulating/printing dictionaries; write FASTA"
   ]
  },
  {
   "cell_type": "code",
   "execution_count": null,
   "id": "e08249d1",
   "metadata": {},
   "outputs": [],
   "source": [
    "# Add or update entries\n",
    "sequences[\"P.paniscus\"] = \"ATGAAA\"  # single assignment\n",
    "sequences.update({\"H.neanderthalensis\": \"ATGCCC\", \"H.erectus\": \"ATGTTT\"})  # bulk update\n",
    "\n",
    "# Print a specific value by key\n",
    "print(\"H.sapiens:\", sequences[\"H.sapiens\"])\n",
    "\n",
    "# Iterate and print all key:value pairs\n",
    "for key, value in sequences.items():\n",
    "    print(key, value)\n",
    "\n",
    "# P18.1 — write a FASTA file\n",
    "with open(\"hominids.fasta\", \"w\") as out:\n",
    "    for key, seq in sequences.items():\n",
    "        out.write(f\">{key}\\n{seq}\\n\")\n",
    "\n",
    "print(\"Wrote hominids.fasta\")"
   ]
  },
  {
   "cell_type": "code",
   "execution_count": null,
   "id": "ad3b7070",
   "metadata": {},
   "outputs": [],
   "source": [
    "# P18.2 — Rosalind #5 Dictionaries: word counts\n",
    "# Upload your source text file (e.g., 'rosalind_ini6.txt') then set filename:\n",
    "fname = \"rosalind_ini6.txt\"  # change to your uploaded file\n",
    "with open(fname, \"r\") as f:\n",
    "    words = f.read().split()\n",
    "\n",
    "counts = {}\n",
    "for w in words:\n",
    "    counts[w] = counts.get(w, 0) + 1\n",
    "\n",
    "for k, v in counts.items():\n",
    "    print(k, v)"
   ]
  },
  {
   "cell_type": "markdown",
   "id": "f2294402",
   "metadata": {},
   "source": [
    "## P19 — `count()` and DNA nucleotide counts"
   ]
  },
  {
   "cell_type": "code",
   "execution_count": null,
   "id": "ceffd476",
   "metadata": {},
   "outputs": [],
   "source": [
    "# P19.1 — Rosalind #6: Count DNA Nucleotides\n",
    "dna_file = \"dna.txt\"  # change to your uploaded file (single-line DNA string)\n",
    "seq = open(dna_file, \"r\").read().strip()\n",
    "print(seq.count(\"A\"), seq.count(\"C\"), seq.count(\"G\"), seq.count(\"T\"))"
   ]
  },
  {
   "cell_type": "code",
   "execution_count": null,
   "id": "b6aa1ff4",
   "metadata": {},
   "outputs": [],
   "source": [
    "# P19.2 — Use list.count() to populate words not yet in dict\n",
    "fname = \"rosalind_ini6.txt\"  # change to your uploaded file\n",
    "text = open(fname, \"r\").read()\n",
    "words = text.split()\n",
    "counts = {}\n",
    "for w in words:\n",
    "    if w not in counts:\n",
    "        counts[w] = words.count(w)\n",
    "for k, v in counts.items():\n",
    "    print(k, v)"
   ]
  },
  {
   "cell_type": "markdown",
   "id": "d604c0fe",
   "metadata": {},
   "source": [
    "## P20 — Install Biopython (run in Colab)"
   ]
  },
  {
   "cell_type": "code",
   "execution_count": null,
   "id": "f809b32f",
   "metadata": {},
   "outputs": [],
   "source": [
    "# If running in Colab, uncomment the following line:\n",
    "# !pip -q install biopython"
   ]
  },
  {
   "cell_type": "code",
   "execution_count": null,
   "id": "f7ae48bf",
   "metadata": {},
   "outputs": [],
   "source": [
    "# Quick sanity check after installing biopython\n",
    "from Bio.Seq import Seq\n",
    "print(\"Biopython OK — Seq length =\", len(Seq(\"ACGT\")))"
   ]
  },
  {
   "cell_type": "markdown",
   "id": "df94add6",
   "metadata": {},
   "source": [
    "## P21 — `Bio.Seq.Seq` object: complement/transcribe/translate"
   ]
  },
  {
   "cell_type": "code",
   "execution_count": null,
   "id": "28492d79",
   "metadata": {},
   "outputs": [],
   "source": [
    "from Bio.Seq import Seq\n",
    "\n",
    "# Example DNA sequence (replace with your own or Rosalind input)\n",
    "my_sequence = Seq(\"GATGGAACTTGACTACGTAAATT\")\n",
    "print(\"Complement:\", my_sequence.complement())\n",
    "print(\"Reverse complement:\", my_sequence.reverse_complement())\n",
    "print(\"Transcribed RNA:\", my_sequence.transcribe())\n",
    "print(\"Translated protein:\", my_sequence.transcribe().translate(to_stop=True))"
   ]
  },
  {
   "cell_type": "code",
   "execution_count": null,
   "id": "83d88793",
   "metadata": {},
   "outputs": [],
   "source": [
    "# P21.1 — Rosalind #7 Transcribing DNA into RNA\n",
    "dna = open(\"rosalind_rna.txt\", \"r\").read().strip()  # upload file first\n",
    "print(Seq(dna).transcribe())"
   ]
  },
  {
   "cell_type": "code",
   "execution_count": null,
   "id": "d4469f90",
   "metadata": {},
   "outputs": [],
   "source": [
    "# P21.2 — Rosalind #8 Translating RNA into Protein\n",
    "rna = open(\"rosalind_prot.txt\", \"r\").read().strip()  # upload file first\n",
    "print(Seq(rna).translate(to_stop=True))"
   ]
  },
  {
   "cell_type": "markdown",
   "id": "6d73cb4e",
   "metadata": {},
   "source": [
    "## P22 — `Bio.SeqIO.parse` FASTA parsing"
   ]
  },
  {
   "cell_type": "code",
   "execution_count": null,
   "id": "af0127f3",
   "metadata": {},
   "outputs": [],
   "source": [
    "from Bio.SeqIO import parse\n",
    "\n",
    "# Upload practice_9.txt (FASTA) or any FASTA file and set name below\n",
    "fasta_file = \"practice_9.txt\"  # change to your uploaded FASTA\n",
    "for seq_record in parse(fasta_file, \"fasta\"):\n",
    "    print(\"ID:\", seq_record.id)\n",
    "    print(\"Description:\", seq_record.description)\n",
    "    print(\"Length:\", len(seq_record.seq))\n",
    "    print(\"Seq (first 60):\", str(seq_record.seq)[:60], \"...\")\n",
    "    print()"
   ]
  },
  {
   "cell_type": "markdown",
   "id": "35d36efc",
   "metadata": {},
   "source": [
    "## P23 — GC content with `SeqUtils.gc_fraction()` and Rosalind #9"
   ]
  },
  {
   "cell_type": "code",
   "execution_count": null,
   "id": "df7d2df6",
   "metadata": {},
   "outputs": [],
   "source": [
    "from Bio.SeqUtils import gc_fraction\n",
    "from Bio.SeqIO import parse\n",
    "\n",
    "fasta_file = \"practice_9.txt\"  # change to your uploaded FASTA\n",
    "\n",
    "# P23.1 — print GC for each record\n",
    "for r in parse(fasta_file, \"fasta\"):\n",
    "    gc = gc_fraction(str(r.seq)) * 100\n",
    "    print(r.id, f\"{gc:.6f}\")\n",
    "\n",
    "# P23.2 — Rosalind #9: ID with maximum GC and its GC%\n",
    "max_id, max_gc = None, -1.0\n",
    "for r in parse(fasta_file, \"fasta\"):\n",
    "    gc = gc_fraction(str(r.seq)) * 100\n",
    "    if gc > max_gc:\n",
    "        max_gc, max_id = gc, r.id\n",
    "\n",
    "print(max_id)\n",
    "print(f\"{max_gc:.6f}\")"
   ]
  }
 ],
 "metadata": {},
 "nbformat": 4,
 "nbformat_minor": 5
}
